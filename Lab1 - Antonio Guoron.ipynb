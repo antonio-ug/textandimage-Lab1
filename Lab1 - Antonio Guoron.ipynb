{
 "cells": [
  {
   "cell_type": "markdown",
   "metadata": {},
   "source": [
    "Universidad Galileo\n",
    "\n",
    "Postgrado en Análisis y Predicción de Datos\n",
    "\n",
    "Text Mining & Image Recognition, Laboratorio 1\n",
    "\n",
    "Antonio Guoron\n",
    "\n"
   ]
  },
  {
   "cell_type": "markdown",
   "metadata": {},
   "source": [
    "##Problema 1:\n",
    "\n",
    "Desarrolle una función la cual reciba dos parámetros, una imagen y un entero llamado color, la función debe devolver una imagen la cual tenga activos los canales de color según los siguientes puntos:\n",
    "\n",
    "Si el parámetro color vale 1, la imagen debe mostrar activos únicamente el color azul.\n",
    "Si el parámetro color vale 2, la imagen debe mostrar activos únicamente el color verde.\n",
    "Si el parámetro color vale 3, la imagen debe mostrar activos únicamente el color rojo.\n",
    "Si el parámetro color vale 10, la imagen debe mostrar activos únicamente los colores rojo y verde.\n",
    "Si el parámetro color vale 20, la imagen debe mostrar activos únicamente los colores verde y azul.\n",
    "Si el parámetro color vale 30, la imagen debe mostrar activos únicamente los colores azul y rojo."
   ]
  },
  {
   "cell_type": "code",
   "execution_count": 1,
   "metadata": {},
   "outputs": [],
   "source": [
    "import cv2\n",
    "import numpy as np\n",
    "\n",
    "def cambiar_color(imagen_path, color):\n",
    "    # Cargar imagen\n",
    "    img = cv2.imread(imagen_path)\n",
    "\n",
    "    # Crear una imagen negra del mismo tamaño que la imagen original\n",
    "    img_zero = np.zeros_like(img)\n",
    "\n",
    "    # Seleccionar color\n",
    "    if color == 1:\n",
    "        img_zero[:, :, 0] = img[:, :, 0]  # Azul\n",
    "    elif color == 2:\n",
    "        img_zero[:, :, 1] = img[:, :, 1]  # Verde\n",
    "    elif color == 3:\n",
    "        img_zero[:, :, 2] = img[:, :, 2]  # Rojo\n",
    "    elif color == 10:\n",
    "        img_zero[:, :, 1] = img[:, :, 1]  # Verde\n",
    "        img_zero[:, :, 2] = img[:, :, 2]  # Rojo\n",
    "    elif color == 20:\n",
    "        img_zero[:, :, 0] = img[:, :, 0]  # Azul\n",
    "        img_zero[:, :, 1] = img[:, :, 1]  # Verde\n",
    "    elif color == 30:\n",
    "        img_zero[:, :, 0] = img[:, :, 0]  # Azul\n",
    "        img_zero[:, :, 2] = img[:, :, 2]  # Rojo\n",
    "    else:\n",
    "        print('Valor de color no válido. Por favor ingrese un valor entre 1 y 30.')\n",
    "\n",
    "    return img_zero\n"
   ]
  },
  {
   "cell_type": "code",
   "execution_count": 5,
   "metadata": {},
   "outputs": [],
   "source": [
    "imagen = cambiar_color('fortnite.jpeg', 30)\n",
    "cv2.imshow('fortnite.jpeg', imagen)\n",
    "cv2.waitKey(0)\n",
    "cv2.destroyAllWindows()\n",
    "cv2.waitKey(1)\n",
    "cv2.destroyAllWindows()\n"
   ]
  }
 ],
 "metadata": {
  "kernelspec": {
   "display_name": "base",
   "language": "python",
   "name": "python3"
  },
  "language_info": {
   "codemirror_mode": {
    "name": "ipython",
    "version": 3
   },
   "file_extension": ".py",
   "mimetype": "text/x-python",
   "name": "python",
   "nbconvert_exporter": "python",
   "pygments_lexer": "ipython3",
   "version": "3.9.13"
  },
  "orig_nbformat": 4
 },
 "nbformat": 4,
 "nbformat_minor": 2
}
